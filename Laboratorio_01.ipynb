{
  "nbformat": 4,
  "nbformat_minor": 0,
  "metadata": {
    "colab": {
      "provenance": [],
      "include_colab_link": true
    },
    "kernelspec": {
      "name": "python3",
      "display_name": "Python 3"
    },
    "language_info": {
      "name": "python"
    }
  },
  "cells": [
    {
      "cell_type": "markdown",
      "metadata": {
        "id": "view-in-github",
        "colab_type": "text"
      },
      "source": [
        "<a href=\"https://colab.research.google.com/github/NahoAlvarez/Intro-analisis-de-datos/blob/Laboratorios-2024/Laboratorio_01.ipynb\" target=\"_parent\"><img src=\"https://colab.research.google.com/assets/colab-badge.svg\" alt=\"Open In Colab\"/></a>"
      ]
    },
    {
      "cell_type": "markdown",
      "source": [
        "Estudiantes:\n",
        "\n",
        "*  Jimena Barrantes Zuñiga\n",
        "*  Nahomy Álvarez Quesada\n",
        "*  Nicole Calderon Sequeira\n",
        "*  Monica Nacarado Dengo\n",
        "*  Ezequiel Duarte Balmaceda"
      ],
      "metadata": {
        "id": "C9SnlAQaH_PQ"
      }
    },
    {
      "cell_type": "markdown",
      "source": [
        "#   Circulo"
      ],
      "metadata": {
        "id": "164iLY1T5p-C"
      }
    },
    {
      "cell_type": "markdown",
      "source": [],
      "metadata": {
        "id": "G25aSn8W7ghi"
      }
    },
    {
      "cell_type": "code",
      "execution_count": null,
      "metadata": {
        "id": "O0ZuqINVU_3C",
        "colab": {
          "base_uri": "https://localhost:8080/"
        },
        "outputId": "942c7d4b-5a74-4d8f-ac2b-5d934eed446d"
      },
      "outputs": [
        {
          "output_type": "stream",
          "name": "stdout",
          "text": [
            "Digite el valor del radio: 30\n",
            "El area es:  2827.4333882308138\n",
            "El perimetro:  188.49555921538757\n"
          ]
        }
      ],
      "source": [
        "import math\n",
        "\n",
        "def calcular_area_circulo(radio):\n",
        "  return math.pi * radio**2\n",
        "\n",
        "def calcular_perimetro_circulo(radio):\n",
        "  return 2*math.pi * radio\n",
        "\n",
        "\n",
        "radio= int(input(\"Digite el valor del radio: \"))\n",
        "\n",
        "area=calcular_area_circulo(radio)\n",
        "perimetro=calcular_perimetro_circulo(radio)\n",
        "print(\"El area es: \",area)\n",
        "print(\"El perimetro: \", perimetro)"
      ]
    },
    {
      "cell_type": "markdown",
      "source": [
        "# Cuadrado"
      ],
      "metadata": {
        "id": "KQlK308C54KC"
      }
    },
    {
      "cell_type": "code",
      "source": [
        "import math\n",
        "\n",
        "def calcular_area_cuadrado(lado):\n",
        "  return lado * lado\n",
        "\n",
        "def calcular_perimetro_cuadrado(lado):\n",
        "  return 4 * lado\n",
        "\n",
        "lado= int(input(\"Digite un valor:\"))\n",
        "area=calcular_area_cuadrado(lado)\n",
        "perimetro=calcular_perimetro_cuadrado(lado)\n",
        "print(\"El area es: \",area)\n",
        "print(\"El perimetro: \", perimetro)"
      ],
      "metadata": {
        "colab": {
          "base_uri": "https://localhost:8080/"
        },
        "id": "coWLdz7jirJG",
        "outputId": "7d2fe3ff-12c0-44f8-a274-ef9812dc4a91"
      },
      "execution_count": null,
      "outputs": [
        {
          "output_type": "stream",
          "name": "stdout",
          "text": [
            "Digite un valor:456\n",
            "El area es:  207936\n",
            "El perimetro:  1824\n"
          ]
        }
      ]
    },
    {
      "cell_type": "markdown",
      "source": [
        "# Plígono regular(Hexagono)"
      ],
      "metadata": {
        "id": "j4Fy74aoL0qb"
      }
    },
    {
      "cell_type": "code",
      "source": [
        "import math\n",
        "\n",
        "def calcular_perimetro_poligno(perimetro, apotema):\n",
        "  return 6 * lado\n",
        "def calcular_area_poligno(lado):\n",
        "  return (perimetro*apotema)/2\n",
        "\n",
        "\n",
        "\n",
        "lado= int(input(\"Digite el valor de uno de los lados del poligono:\"))\n",
        "lado= int(input(\"Digite el valor de la apotema\"))\n",
        "perimetro=calcular_perimetro_cuadrado(lado)\n",
        "area=calcular_area_cuadrado(lado)\n",
        "\n",
        "print(\"El area es: \",area)\n",
        "print(\"El perimetro: \", perimetro)"
      ],
      "metadata": {
        "colab": {
          "base_uri": "https://localhost:8080/"
        },
        "id": "yNzY5tBHMDEf",
        "outputId": "00af30ce-ef0f-4b80-c57d-1be4a90ca7aa"
      },
      "execution_count": null,
      "outputs": [
        {
          "output_type": "stream",
          "name": "stdout",
          "text": [
            "Digite el valor de uno de los lados del poligono:20\n",
            "Digite el valor de la apotema10\n",
            "El area es:  100\n",
            "El perimetro:  40\n"
          ]
        }
      ]
    },
    {
      "cell_type": "markdown",
      "source": [
        "# Triangulo Equilatero"
      ],
      "metadata": {
        "id": "ZIVi7N5OGNow"
      }
    },
    {
      "cell_type": "code",
      "source": [
        "import math\n",
        "\n",
        "def calcular_area_triangulo_Equi(lado):\n",
        "  return ((lado**2)*math.sqrt(3))/4\n",
        "\n",
        "def calcular_perimetro_triangulo_Equi(lado):\n",
        "  return 3 * lado\n",
        "\n",
        "lado= int(input(\"Digite un valor de uno de los lados del triangulo:\"))\n",
        "area=calcular_area_triangulo_Equi(lado)\n",
        "perimetro=calcular_perimetro_triangulo_Equi(lado)\n",
        "print(\"El area es: \",area)\n",
        "print(\"El perimetro: \", perimetro)"
      ],
      "metadata": {
        "colab": {
          "base_uri": "https://localhost:8080/"
        },
        "id": "15ZScvrEGSl5",
        "outputId": "7b37a7f5-de97-42c0-c4b2-8f0bfd70c4be"
      },
      "execution_count": null,
      "outputs": [
        {
          "output_type": "stream",
          "name": "stdout",
          "text": [
            "Digite un valor de uno de los lados del triangulo:20\n",
            "El area es:  173.20508075688772\n",
            "El perimetro:  60\n"
          ]
        }
      ]
    },
    {
      "cell_type": "markdown",
      "source": [
        "# Rectángulo"
      ],
      "metadata": {
        "id": "opTPdNTK7jJI"
      }
    },
    {
      "cell_type": "code",
      "source": [
        "import math\n",
        "\n",
        "def calcular_area_rectangulo(base, altura):\n",
        "  return base * altura\n",
        "\n",
        "def calcular_perimetro_rectangulo(base, altura):\n",
        "  return 2*base+2*altura\n",
        "\n",
        "base= int(input(\"Digite un valor para la base:\"))\n",
        "altura= int(input(\"Digite un valor para la altura:\"))\n",
        "area=calcular_area_rectangulo(base, altura)\n",
        "perimetro=calcular_perimetro_rectangulo(base, altura)\n",
        "print(\"El area es: \",area)\n",
        "print(\"El perimetro: \", perimetro)"
      ],
      "metadata": {
        "id": "R1JUkEfWJVI5"
      },
      "execution_count": null,
      "outputs": []
    },
    {
      "cell_type": "markdown",
      "source": [
        "# Rombo"
      ],
      "metadata": {
        "id": "DSFhXLtY7vtZ"
      }
    },
    {
      "cell_type": "code",
      "source": [
        "import math\n",
        "\n",
        "def calcular_area_rombo(D,d):\n",
        "  return (D*d / 2)\n",
        "\n",
        "def calcular_perimetro_rombo(lado):\n",
        "  return 4 *lado\n",
        "\n",
        "D= int(input(\"Diagonal mayor:\"))\n",
        "d=int(input(\"Diagnal menor:\"))\n",
        "lado= int(input(\"Lado:\"))\n",
        "\n",
        "area=calcular_area_rombo(D,d)\n",
        "perimetro=calcular_perimetro_rombo(lado)\n",
        "\n",
        "print(\"El area es: \",area)\n",
        "print(\"El perimetro: \", perimetro)"
      ],
      "metadata": {
        "id": "qPnmYQEK7xb_",
        "colab": {
          "base_uri": "https://localhost:8080/"
        },
        "outputId": "92c2b3d7-346c-420f-c2db-0663cf4b36e5"
      },
      "execution_count": null,
      "outputs": [
        {
          "output_type": "stream",
          "name": "stdout",
          "text": [
            "Diagonal mayor:4\n",
            "Diagnal menor:2\n",
            "Lado:8\n",
            "El area es:  4.0\n",
            "El perimetro:  32\n"
          ]
        }
      ]
    },
    {
      "cell_type": "markdown",
      "source": [
        "# Trapecio"
      ],
      "metadata": {
        "id": "tadSyGjo_Nss"
      }
    },
    {
      "cell_type": "code",
      "source": [
        "import math\n",
        "\n",
        "def calcular_area_trapecio(B,b,h):\n",
        "  return ((B+b) / 2)*h\n",
        "\n",
        "def calcular_perimetro_trapecio(lado):\n",
        "  return 4 *lado\n",
        "\n",
        "B= int(input(\"Base Mayor:\"))\n",
        "b=int(input(\"Base Menor:\"))\n",
        "h=int(input(\"Altura:\"))\n",
        "lado= int(input(\"Lado:\"))\n",
        "\n",
        "area=calcular_area_trapecio(B,b,h)\n",
        "perimetro=calcular_perimetro_trapecio(lado)\n",
        "\n",
        "print(\"El area es: \",area)\n",
        "print(\"El perimetro: \", perimetro)"
      ],
      "metadata": {
        "colab": {
          "base_uri": "https://localhost:8080/"
        },
        "id": "ZnJ16CmD_P5z",
        "outputId": "66f04840-b5a8-4a25-d50e-aa5ca06d065d"
      },
      "execution_count": null,
      "outputs": [
        {
          "output_type": "stream",
          "name": "stdout",
          "text": [
            "Base Mayor:10\n",
            "Base Menor:4\n",
            "Altura:5\n",
            "Lado:6\n",
            "El area es:  35.0\n",
            "El perimetro:  24\n"
          ]
        }
      ]
    },
    {
      "cell_type": "markdown",
      "source": [
        "# Paralelogramo"
      ],
      "metadata": {
        "id": "Zs64B9csJJkq"
      }
    },
    {
      "cell_type": "code",
      "source": [
        "import math\n",
        "\n",
        "def calcular_area_paralelogramo(base, altura):\n",
        "  return base * altura\n",
        "\n",
        "def calcular_perimetro_paralelogramo(lado, base):\n",
        "  return 2*lado+2*base\n",
        "\n",
        "base= int(input(\"Digite un valor para la base:\"))\n",
        "altura= int(input(\"Digite un valor para la altura:\"))\n",
        "lado= int(input(\"Digite un valor para el lado:\"))\n",
        "area=calcular_area_paralelogramo(base, altura)\n",
        "perimetro=calcular_perimetro_paralelogramo(lado, base)\n",
        "print(\"El area es: \",area)\n",
        "print(\"El perimetro: \", perimetro)"
      ],
      "metadata": {
        "id": "Oj8gKgv3JMtn"
      },
      "execution_count": null,
      "outputs": []
    },
    {
      "cell_type": "markdown",
      "source": [
        "# Triangulo"
      ],
      "metadata": {
        "id": "X8mh-UFSJmfx"
      }
    },
    {
      "cell_type": "code",
      "source": [
        "import math\n",
        "\n",
        "def calcular_area_triangulo(base, altura):\n",
        "  return (base*altura)/2\n",
        "\n",
        "def calcular_perimetro_trangulo(lado1,lado2,lado3):\n",
        "  return lado1+lado2+lado3\n",
        "\n",
        "print(\"Ingrese la base del triangulo: \")\n",
        "base= int(input(\"Digite un valor para la base: \"))\n",
        "\n",
        "print(\"Ingrese la altura del triangulo: \")\n",
        "altura= int(input(\"Digite un valor para la altura: \"))\n",
        "\n",
        "print(\"Ingrese el lado1 del triangulo: \")\n",
        "lado1= int(input(\"Digite un valor para el lado1: \"))\n",
        "print(\"Ingrese el lado2 del triangulo: \")\n",
        "lado2= int(input(\"Digite un valor para el lado2: \"))\n",
        "print(\"Ingrese el lado3 del triangulo: \")\n",
        "lado3= int(input(\"Digite un valor para el lado3: \"))\n",
        "\n",
        "area= calcular_area_triangulo(base, altura)\n",
        "perimetro= calcular_perimetro_trangulo(lado1,lado2,lado3)\n",
        "\n",
        "print(\"El area es: \",area)\n",
        "print(\"El perimetro: \", perimetro)"
      ],
      "metadata": {
        "id": "QZIeFay2Jsha"
      },
      "execution_count": null,
      "outputs": []
    }
  ]
}