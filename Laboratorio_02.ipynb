{
  "nbformat": 4,
  "nbformat_minor": 0,
  "metadata": {
    "colab": {
      "provenance": [],
      "authorship_tag": "ABX9TyOGS+7URxKmog03zE0QwBm2",
      "include_colab_link": true
    },
    "kernelspec": {
      "name": "python3",
      "display_name": "Python 3"
    },
    "language_info": {
      "name": "python"
    }
  },
  "cells": [
    {
      "cell_type": "markdown",
      "metadata": {
        "id": "view-in-github",
        "colab_type": "text"
      },
      "source": [
        "<a href=\"https://colab.research.google.com/github/NahoAlvarez/Intro-analisis-de-datos/blob/main/Laboratorio_02.ipynb\" target=\"_parent\"><img src=\"https://colab.research.google.com/assets/colab-badge.svg\" alt=\"Open In Colab\"/></a>"
      ]
    },
    {
      "cell_type": "code",
      "execution_count": null,
      "metadata": {
        "colab": {
          "base_uri": "https://localhost:8080/"
        },
        "id": "OqqWEMTAfdtU",
        "outputId": "39dbc774-1168-4094-b862-f31b161c7237"
      },
      "outputs": [
        {
          "output_type": "stream",
          "name": "stdout",
          "text": [
            "Authenticated\n",
            "       inf  sexo  escolaridad  edad  casado_a  experiencia  pob_mul  \\\n",
            "0        0     0           12    18         0          121        0   \n",
            "1        0     0            8    48         0         2025        1   \n",
            "2        0     1            6    49         0         2304        0   \n",
            "3        0     1            0    40         0         2025        1   \n",
            "4        0     0            6    37         1         1296        0   \n",
            "...    ...   ...          ...   ...       ...          ...      ...   \n",
            "24646    0     1           17    56         0         1936        0   \n",
            "24647    0     0            6    74         1         5329        0   \n",
            "24648    0     1           11    68         1         3844        0   \n",
            "24649    0     0           17    61         0         2401        0   \n",
            "24650    0     1           13    42         0         1156        0   \n",
            "\n",
            "       migrante_2  \n",
            "0               1  \n",
            "1               0  \n",
            "2               1  \n",
            "3               2  \n",
            "4               1  \n",
            "...           ...  \n",
            "24646           2  \n",
            "24647           0  \n",
            "24648           1  \n",
            "24649           1  \n",
            "24650           1  \n",
            "\n",
            "[24651 rows x 8 columns]\n"
          ]
        }
      ],
      "source": [
        "from google.colab import auth\n",
        "auth.authenticate_user()\n",
        "print('Authenticated')\n",
        "\n",
        "import pandas as pd\n",
        "import matplotlib.pyplot as plt\n",
        "\n",
        "df=pd.read_csv(\"LOGIC.csv\")\n",
        "data=pd.DataFrame(df)\n",
        "print(data)"
      ]
    },
    {
      "cell_type": "code",
      "source": [],
      "metadata": {
        "colab": {
          "base_uri": "https://localhost:8080/"
        },
        "id": "c_xMyUmAkS-K",
        "outputId": "3747ed9c-e210-473c-fed0-b4312b2e18da"
      },
      "execution_count": null,
      "outputs": [
        {
          "output_type": "stream",
          "name": "stdout",
          "text": [
            "Authenticated\n"
          ]
        }
      ]
    },
    {
      "cell_type": "code",
      "source": [
        "print(data['escolaridad'].max())"
      ],
      "metadata": {
        "colab": {
          "base_uri": "https://localhost:8080/"
        },
        "id": "_sSTdhO_jFiK",
        "outputId": "0839286c-9a06-47bb-8c76-14cce337cbd3"
      },
      "execution_count": null,
      "outputs": [
        {
          "output_type": "stream",
          "name": "stdout",
          "text": [
            "22\n"
          ]
        }
      ]
    },
    {
      "cell_type": "markdown",
      "source": [
        "# **Un grupo de datos por dos columnas**"
      ],
      "metadata": {
        "id": "UxDyIzPmg0JE"
      }
    },
    {
      "cell_type": "code",
      "source": [
        "dataFiltered=data.loc[(data['escolaridad']==22)&(data['sexo']==1)]\n",
        "print(dataFiltered)"
      ],
      "metadata": {
        "colab": {
          "base_uri": "https://localhost:8080/"
        },
        "id": "bNBk1-Rvfg4s",
        "outputId": "6b92e1e9-9558-45fa-ee6b-683973ac337d"
      },
      "execution_count": null,
      "outputs": [
        {
          "output_type": "stream",
          "name": "stdout",
          "text": [
            "       inf  sexo  escolaridad  edad  casado_a  experiencia  pob_mul  \\\n",
            "21069    0     1           22    47         0          900        0   \n",
            "21613    0     1           22    36         1          361        0   \n",
            "22129    0     1           22    82         0         4225        0   \n",
            "22648    0     1           22    70         0         2809        0   \n",
            "23120    0     1           22    65         1         2304        0   \n",
            "23463    0     1           22    67         1         2500        0   \n",
            "23594    0     1           22    63         0         2116        0   \n",
            "23916    0     1           22    69         0         2704        0   \n",
            "23925    0     1           22    64         1         2209        0   \n",
            "24022    0     1           22    50         1         1089        0   \n",
            "24068    1     1           22    58         1         1681        0   \n",
            "24098    0     1           22    54         0         1369        0   \n",
            "24102    0     1           22    42         1          625        0   \n",
            "24262    0     1           22    39         0          484        0   \n",
            "24344    1     1           22    35         1          324        0   \n",
            "24385    0     1           22    66         1         2401        0   \n",
            "24483    0     1           22    34         1          289        0   \n",
            "24618    0     1           22    67         0         2500        0   \n",
            "\n",
            "       migrante_2  \n",
            "21069           1  \n",
            "21613           0  \n",
            "22129           0  \n",
            "22648           0  \n",
            "23120           1  \n",
            "23463           0  \n",
            "23594           0  \n",
            "23916           2  \n",
            "23925           1  \n",
            "24022           0  \n",
            "24068           1  \n",
            "24098           1  \n",
            "24102           0  \n",
            "24262           1  \n",
            "24344           1  \n",
            "24385           1  \n",
            "24483           1  \n",
            "24618           1  \n"
          ]
        }
      ]
    },
    {
      "cell_type": "markdown",
      "source": [
        "# **Sort de un grupo de datos**"
      ],
      "metadata": {
        "id": "0_aHy9lBfzB1"
      }
    },
    {
      "cell_type": "code",
      "source": [
        "print(dataFiltered.sort_values(by=['edad'],ascending=False).head(10))"
      ],
      "metadata": {
        "colab": {
          "base_uri": "https://localhost:8080/"
        },
        "id": "X_PaELKZfzSF",
        "outputId": "fa7c563a-b5a8-40ce-b541-75c2ba907a2c"
      },
      "execution_count": null,
      "outputs": [
        {
          "output_type": "stream",
          "name": "stdout",
          "text": [
            "       inf  sexo  escolaridad  edad  casado_a  experiencia  pob_mul  \\\n",
            "22129    0     1           22    82         0         4225        0   \n",
            "22648    0     1           22    70         0         2809        0   \n",
            "23916    0     1           22    69         0         2704        0   \n",
            "24618    0     1           22    67         0         2500        0   \n",
            "23463    0     1           22    67         1         2500        0   \n",
            "24385    0     1           22    66         1         2401        0   \n",
            "23120    0     1           22    65         1         2304        0   \n",
            "23925    0     1           22    64         1         2209        0   \n",
            "23594    0     1           22    63         0         2116        0   \n",
            "24068    1     1           22    58         1         1681        0   \n",
            "\n",
            "       migrante_2  \n",
            "22129           0  \n",
            "22648           0  \n",
            "23916           2  \n",
            "24618           1  \n",
            "23463           0  \n",
            "24385           1  \n",
            "23120           1  \n",
            "23925           1  \n",
            "23594           0  \n",
            "24068           1  \n"
          ]
        }
      ]
    },
    {
      "cell_type": "markdown",
      "source": [
        "# **Promedio**"
      ],
      "metadata": {
        "id": "mcBgprHkhwz0"
      }
    },
    {
      "cell_type": "code",
      "source": [
        "print(dataFiltered['edad'].mean())"
      ],
      "metadata": {
        "colab": {
          "base_uri": "https://localhost:8080/"
        },
        "id": "tKtb3T7PhVNr",
        "outputId": "3b837aab-0aae-4179-f9e0-9889496da30b"
      },
      "execution_count": null,
      "outputs": [
        {
          "output_type": "stream",
          "name": "stdout",
          "text": [
            "56.0\n"
          ]
        }
      ]
    },
    {
      "cell_type": "code",
      "source": [
        "print(dataFiltered['edad'].max())"
      ],
      "metadata": {
        "colab": {
          "base_uri": "https://localhost:8080/"
        },
        "id": "yle7i1aOiNMZ",
        "outputId": "402c63b5-1b5a-45d0-a1ad-8828cc35026f"
      },
      "execution_count": null,
      "outputs": [
        {
          "output_type": "stream",
          "name": "stdout",
          "text": [
            "82\n"
          ]
        }
      ]
    },
    {
      "cell_type": "code",
      "source": [
        "print(dataFiltered['edad'].min())"
      ],
      "metadata": {
        "colab": {
          "base_uri": "https://localhost:8080/"
        },
        "id": "VCxSDr6AiNVx",
        "outputId": "ffd2529b-3d4d-4c69-c46a-547f4b15cc4c"
      },
      "execution_count": null,
      "outputs": [
        {
          "output_type": "stream",
          "name": "stdout",
          "text": [
            "34\n"
          ]
        }
      ]
    },
    {
      "cell_type": "markdown",
      "source": [
        "*En promedio las mujeres que tienen un grado de escolaridad de 22 años tienen una edad de 56 años*"
      ],
      "metadata": {
        "id": "syTrGKAsh2EM"
      }
    }
  ]
}